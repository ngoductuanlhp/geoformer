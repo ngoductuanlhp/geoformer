{
 "cells": [
  {
   "cell_type": "code",
   "execution_count": 1,
   "metadata": {},
   "outputs": [],
   "source": [
    "%load_ext autoreload\n",
    "%autoreload 2"
   ]
  },
  {
   "cell_type": "code",
   "execution_count": 2,
   "metadata": {},
   "outputs": [],
   "source": [
    "import os\n",
    "os.environ[\"CUDA_VISIBLE_DEVICES\"] = \"0\""
   ]
  },
  {
   "cell_type": "code",
   "execution_count": 5,
   "metadata": {},
   "outputs": [],
   "source": [
    "\n",
    "import sys\n",
    "sys.path.append('./')\n",
    "\n",
    "import torch\n",
    "import torch.nn as nn\n",
    "from torch.nn import functional as F\n",
    "import numpy as np\n",
    "\n",
    "import pickle\n",
    "import faiss                     # make faiss available\n",
    "import faiss.contrib.torch_utils\n",
    "from numba import njit, prange\n",
    "from numba import types\n",
    "from numba.extending import overload\n",
    "\n",
    "from shortest_path_onl import ShortestObj\n",
    "from tqdm import tqdm\n",
    "\n",
    "import os"
   ]
  },
  {
   "cell_type": "code",
   "execution_count": 7,
   "metadata": {},
   "outputs": [],
   "source": [
    "with open('/home/ubuntu/fewshot3d_ws/geoformer/data/scannetv2/geoformer_scene_info_train.pkl', 'rb') as f:\n",
    "    geoformer_scene_info_train = pickle.load(f)\n",
    "\n",
    "with open('/home/ubuntu/fewshot3d_ws/geoformer/data/scannetv2/geoformer_knn_train.pkl', 'rb') as f:\n",
    "    geoformer_knn_train = pickle.load(f)"
   ]
  },
  {
   "cell_type": "code",
   "execution_count": 8,
   "metadata": {},
   "outputs": [],
   "source": [
    "shortestObj = ShortestObj()\n"
   ]
  },
  {
   "cell_type": "code",
   "execution_count": 16,
   "metadata": {},
   "outputs": [
    {
     "name": "stderr",
     "output_type": "stream",
     "text": [
      "100%|██████████| 1192/1192 [2:39:14<00:00,  8.02s/it] \n"
     ]
    }
   ],
   "source": [
    "for scene_name in tqdm(list(geoformer_scene_info_train.keys())):\n",
    "    scene_dict = geoformer_scene_info_train[scene_name]\n",
    "    knn = geoformer_knn_train[scene_name]\n",
    "    locs_float_ = torch.from_numpy(scene_dict['locs_float_'])\n",
    "    pre_enc_inds = torch.from_numpy(scene_dict['pre_enc_inds_arr'][0]).long()\n",
    "    query_inds = pre_enc_inds[:128] # first 128 indices\n",
    "\n",
    "    distances_arr = knn['distances_arr']\n",
    "    indices_arr = knn['indices_arr']\n",
    "    geo_dist = shortestObj.shortest_path(locs_float_, query_inds, distances_arr, indices_arr)\n",
    "\n",
    "    saved_file = os.path.join('/home/ubuntu/fewshot3d_ws/geoformer/data/scannetv2/geoformer_geodist', f'geo_dist_{scene_name}')\n",
    "    np.save(saved_file, geo_dist)\n"
   ]
  }
 ],
 "metadata": {
  "kernelspec": {
   "display_name": "Python 3.7.11 ('pt')",
   "language": "python",
   "name": "python3"
  },
  "language_info": {
   "codemirror_mode": {
    "name": "ipython",
    "version": 3
   },
   "file_extension": ".py",
   "mimetype": "text/x-python",
   "name": "python",
   "nbconvert_exporter": "python",
   "pygments_lexer": "ipython3",
   "version": "3.7.11"
  },
  "orig_nbformat": 4,
  "vscode": {
   "interpreter": {
    "hash": "10eab561919a0140d240533255ad755482117befba741cb62f158faf92d8fbf7"
   }
  }
 },
 "nbformat": 4,
 "nbformat_minor": 2
}
